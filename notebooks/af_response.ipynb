{
 "cells": [
  {
   "cell_type": "code",
   "execution_count": 7,
   "metadata": {
    "collapsed": true
   },
   "outputs": [],
   "source": [
    "import pandas as pd\n",
    "import numpy as np\n",
    "from knockai.log_decode import log_decode\n"
   ]
  },
  {
   "cell_type": "code",
   "execution_count": 8,
   "outputs": [],
   "source": [
    "df = log_decode('/Users/danchecketts/dev/learning/Knockai/resources/runs/r02/r2-100k-af.txt')"
   ],
   "metadata": {
    "collapsed": false
   }
  },
  {
   "cell_type": "code",
   "execution_count": 9,
   "outputs": [],
   "source": [
    "# Identify the columns in the DataFrame that correspond to the throttle position and air-fuel mixture\n",
    "throttle_col = 'TPS'\n",
    "afr_col = 'WB_Oxy'\n",
    "time_col = 'Secs'"
   ],
   "metadata": {
    "collapsed": false
   }
  },
  {
   "cell_type": "code",
   "execution_count": 15,
   "outputs": [
    {
     "data": {
      "text/plain": "   Secs  TPS  WB_Oxy\n0  0.00   20    15.1\n1  0.09   20    14.7\n2  0.17   20    13.9\n3  0.27   20    13.8\n4  0.36   20    14.0",
      "text/html": "<div>\n<style scoped>\n    .dataframe tbody tr th:only-of-type {\n        vertical-align: middle;\n    }\n\n    .dataframe tbody tr th {\n        vertical-align: top;\n    }\n\n    .dataframe thead th {\n        text-align: right;\n    }\n</style>\n<table border=\"1\" class=\"dataframe\">\n  <thead>\n    <tr style=\"text-align: right;\">\n      <th></th>\n      <th>Secs</th>\n      <th>TPS</th>\n      <th>WB_Oxy</th>\n    </tr>\n  </thead>\n  <tbody>\n    <tr>\n      <th>0</th>\n      <td>0.00</td>\n      <td>20</td>\n      <td>15.1</td>\n    </tr>\n    <tr>\n      <th>1</th>\n      <td>0.09</td>\n      <td>20</td>\n      <td>14.7</td>\n    </tr>\n    <tr>\n      <th>2</th>\n      <td>0.17</td>\n      <td>20</td>\n      <td>13.9</td>\n    </tr>\n    <tr>\n      <th>3</th>\n      <td>0.27</td>\n      <td>20</td>\n      <td>13.8</td>\n    </tr>\n    <tr>\n      <th>4</th>\n      <td>0.36</td>\n      <td>20</td>\n      <td>14.0</td>\n    </tr>\n  </tbody>\n</table>\n</div>"
     },
     "execution_count": 15,
     "metadata": {},
     "output_type": "execute_result"
    }
   ],
   "source": [
    "# Remove the other columns\n",
    "df = df[[time_col, throttle_col, afr_col]]\n",
    "df.head()"
   ],
   "metadata": {
    "collapsed": false
   }
  },
  {
   "cell_type": "code",
   "execution_count": 18,
   "outputs": [
    {
     "data": {
      "text/plain": "    Secs  TPS  WB_Oxy  throttle_derivative  afr_derivative\n0   0.00   20    15.1                  NaN             NaN\n1   0.09   20    14.7             0.000000       -4.444444\n2   0.17   20    13.9             0.000000      -10.000000\n3   0.27   20    13.8             0.000000       -1.000000\n4   0.36   20    14.0             0.000000        2.222222\n5   0.45   20    14.0             0.000000        0.000000\n6   0.55   20    14.2             0.000000        2.000000\n7   0.66   20    15.0             0.000000        7.272727\n8   0.75   20    15.2             0.000000        2.222222\n9   0.84   20    14.8             0.000000       -4.444444\n10  0.92   20    13.9             0.000000      -11.250000\n11  1.03   20    13.6             0.000000       -2.727273\n12  1.13   20    13.3             0.000000       -3.000000\n13  1.20   20    13.3             0.000000        0.000000\n14  1.30   20    13.4             0.000000        1.000000\n15  1.39   20    13.8             0.000000        4.444444\n16  1.47   20    14.0             0.000000        2.500000\n17  1.56   20    14.1             0.000000        1.111111\n18  1.64   20    14.4             0.000000        3.750000\n19  1.74   20    14.5             0.000000        1.000000\n20  1.83   20    14.5             0.000000        0.000000\n21  1.92   20    14.4             0.000000       -1.111111\n22  2.00   20    14.3             0.000000       -1.250000\n23  2.09   20    14.6             0.000000        3.333333\n24  2.19   20    15.0             0.000000        4.000000\n25  2.30   20    15.0             0.000000        0.000000\n26  2.39   20    14.6             0.000000       -4.444444\n27  2.47   31    14.1           137.500000       -6.250000\n28  2.56   40    13.9           100.000000       -2.222222\n29  2.67   20    13.5          -181.818182       -3.636364\n30  2.75   20    14.4             0.000000       11.250000\n31  2.84   20    12.1             0.000000      -25.555556\n32  2.92   20    11.5             0.000000       -7.500000\n33  3.00   20    10.9             0.000000       -7.500000\n34  3.11   21    10.8             9.090909       -0.909091\n35  3.19   21    11.0             0.000000        2.500000\n36  3.27   21    10.8             0.000000       -2.500000\n37  3.36   22    10.4            11.111111       -4.444444\n38  3.45   22    11.0             0.000000        6.666667\n39  3.56   21    12.4            -9.090909       12.727273\n40  3.64   21    12.4             0.000000        0.000000\n41  3.72   22    12.8            12.500000        5.000000\n42  3.83   22    13.0             0.000000        1.818182\n43  3.91   22    13.0             0.000000        0.000000\n44  4.02   22    13.1             0.000000        0.909091\n45  4.09   22    13.1             0.000000        0.000000\n46  4.17   22    13.1             0.000000        0.000000\n47  4.27   22    13.1             0.000000        0.000000\n48  4.38   22    13.0             0.000000       -0.909091\n49  4.45   23    13.0            14.285714        0.000000",
      "text/html": "<div>\n<style scoped>\n    .dataframe tbody tr th:only-of-type {\n        vertical-align: middle;\n    }\n\n    .dataframe tbody tr th {\n        vertical-align: top;\n    }\n\n    .dataframe thead th {\n        text-align: right;\n    }\n</style>\n<table border=\"1\" class=\"dataframe\">\n  <thead>\n    <tr style=\"text-align: right;\">\n      <th></th>\n      <th>Secs</th>\n      <th>TPS</th>\n      <th>WB_Oxy</th>\n      <th>throttle_derivative</th>\n      <th>afr_derivative</th>\n    </tr>\n  </thead>\n  <tbody>\n    <tr>\n      <th>0</th>\n      <td>0.00</td>\n      <td>20</td>\n      <td>15.1</td>\n      <td>NaN</td>\n      <td>NaN</td>\n    </tr>\n    <tr>\n      <th>1</th>\n      <td>0.09</td>\n      <td>20</td>\n      <td>14.7</td>\n      <td>0.000000</td>\n      <td>-4.444444</td>\n    </tr>\n    <tr>\n      <th>2</th>\n      <td>0.17</td>\n      <td>20</td>\n      <td>13.9</td>\n      <td>0.000000</td>\n      <td>-10.000000</td>\n    </tr>\n    <tr>\n      <th>3</th>\n      <td>0.27</td>\n      <td>20</td>\n      <td>13.8</td>\n      <td>0.000000</td>\n      <td>-1.000000</td>\n    </tr>\n    <tr>\n      <th>4</th>\n      <td>0.36</td>\n      <td>20</td>\n      <td>14.0</td>\n      <td>0.000000</td>\n      <td>2.222222</td>\n    </tr>\n    <tr>\n      <th>5</th>\n      <td>0.45</td>\n      <td>20</td>\n      <td>14.0</td>\n      <td>0.000000</td>\n      <td>0.000000</td>\n    </tr>\n    <tr>\n      <th>6</th>\n      <td>0.55</td>\n      <td>20</td>\n      <td>14.2</td>\n      <td>0.000000</td>\n      <td>2.000000</td>\n    </tr>\n    <tr>\n      <th>7</th>\n      <td>0.66</td>\n      <td>20</td>\n      <td>15.0</td>\n      <td>0.000000</td>\n      <td>7.272727</td>\n    </tr>\n    <tr>\n      <th>8</th>\n      <td>0.75</td>\n      <td>20</td>\n      <td>15.2</td>\n      <td>0.000000</td>\n      <td>2.222222</td>\n    </tr>\n    <tr>\n      <th>9</th>\n      <td>0.84</td>\n      <td>20</td>\n      <td>14.8</td>\n      <td>0.000000</td>\n      <td>-4.444444</td>\n    </tr>\n    <tr>\n      <th>10</th>\n      <td>0.92</td>\n      <td>20</td>\n      <td>13.9</td>\n      <td>0.000000</td>\n      <td>-11.250000</td>\n    </tr>\n    <tr>\n      <th>11</th>\n      <td>1.03</td>\n      <td>20</td>\n      <td>13.6</td>\n      <td>0.000000</td>\n      <td>-2.727273</td>\n    </tr>\n    <tr>\n      <th>12</th>\n      <td>1.13</td>\n      <td>20</td>\n      <td>13.3</td>\n      <td>0.000000</td>\n      <td>-3.000000</td>\n    </tr>\n    <tr>\n      <th>13</th>\n      <td>1.20</td>\n      <td>20</td>\n      <td>13.3</td>\n      <td>0.000000</td>\n      <td>0.000000</td>\n    </tr>\n    <tr>\n      <th>14</th>\n      <td>1.30</td>\n      <td>20</td>\n      <td>13.4</td>\n      <td>0.000000</td>\n      <td>1.000000</td>\n    </tr>\n    <tr>\n      <th>15</th>\n      <td>1.39</td>\n      <td>20</td>\n      <td>13.8</td>\n      <td>0.000000</td>\n      <td>4.444444</td>\n    </tr>\n    <tr>\n      <th>16</th>\n      <td>1.47</td>\n      <td>20</td>\n      <td>14.0</td>\n      <td>0.000000</td>\n      <td>2.500000</td>\n    </tr>\n    <tr>\n      <th>17</th>\n      <td>1.56</td>\n      <td>20</td>\n      <td>14.1</td>\n      <td>0.000000</td>\n      <td>1.111111</td>\n    </tr>\n    <tr>\n      <th>18</th>\n      <td>1.64</td>\n      <td>20</td>\n      <td>14.4</td>\n      <td>0.000000</td>\n      <td>3.750000</td>\n    </tr>\n    <tr>\n      <th>19</th>\n      <td>1.74</td>\n      <td>20</td>\n      <td>14.5</td>\n      <td>0.000000</td>\n      <td>1.000000</td>\n    </tr>\n    <tr>\n      <th>20</th>\n      <td>1.83</td>\n      <td>20</td>\n      <td>14.5</td>\n      <td>0.000000</td>\n      <td>0.000000</td>\n    </tr>\n    <tr>\n      <th>21</th>\n      <td>1.92</td>\n      <td>20</td>\n      <td>14.4</td>\n      <td>0.000000</td>\n      <td>-1.111111</td>\n    </tr>\n    <tr>\n      <th>22</th>\n      <td>2.00</td>\n      <td>20</td>\n      <td>14.3</td>\n      <td>0.000000</td>\n      <td>-1.250000</td>\n    </tr>\n    <tr>\n      <th>23</th>\n      <td>2.09</td>\n      <td>20</td>\n      <td>14.6</td>\n      <td>0.000000</td>\n      <td>3.333333</td>\n    </tr>\n    <tr>\n      <th>24</th>\n      <td>2.19</td>\n      <td>20</td>\n      <td>15.0</td>\n      <td>0.000000</td>\n      <td>4.000000</td>\n    </tr>\n    <tr>\n      <th>25</th>\n      <td>2.30</td>\n      <td>20</td>\n      <td>15.0</td>\n      <td>0.000000</td>\n      <td>0.000000</td>\n    </tr>\n    <tr>\n      <th>26</th>\n      <td>2.39</td>\n      <td>20</td>\n      <td>14.6</td>\n      <td>0.000000</td>\n      <td>-4.444444</td>\n    </tr>\n    <tr>\n      <th>27</th>\n      <td>2.47</td>\n      <td>31</td>\n      <td>14.1</td>\n      <td>137.500000</td>\n      <td>-6.250000</td>\n    </tr>\n    <tr>\n      <th>28</th>\n      <td>2.56</td>\n      <td>40</td>\n      <td>13.9</td>\n      <td>100.000000</td>\n      <td>-2.222222</td>\n    </tr>\n    <tr>\n      <th>29</th>\n      <td>2.67</td>\n      <td>20</td>\n      <td>13.5</td>\n      <td>-181.818182</td>\n      <td>-3.636364</td>\n    </tr>\n    <tr>\n      <th>30</th>\n      <td>2.75</td>\n      <td>20</td>\n      <td>14.4</td>\n      <td>0.000000</td>\n      <td>11.250000</td>\n    </tr>\n    <tr>\n      <th>31</th>\n      <td>2.84</td>\n      <td>20</td>\n      <td>12.1</td>\n      <td>0.000000</td>\n      <td>-25.555556</td>\n    </tr>\n    <tr>\n      <th>32</th>\n      <td>2.92</td>\n      <td>20</td>\n      <td>11.5</td>\n      <td>0.000000</td>\n      <td>-7.500000</td>\n    </tr>\n    <tr>\n      <th>33</th>\n      <td>3.00</td>\n      <td>20</td>\n      <td>10.9</td>\n      <td>0.000000</td>\n      <td>-7.500000</td>\n    </tr>\n    <tr>\n      <th>34</th>\n      <td>3.11</td>\n      <td>21</td>\n      <td>10.8</td>\n      <td>9.090909</td>\n      <td>-0.909091</td>\n    </tr>\n    <tr>\n      <th>35</th>\n      <td>3.19</td>\n      <td>21</td>\n      <td>11.0</td>\n      <td>0.000000</td>\n      <td>2.500000</td>\n    </tr>\n    <tr>\n      <th>36</th>\n      <td>3.27</td>\n      <td>21</td>\n      <td>10.8</td>\n      <td>0.000000</td>\n      <td>-2.500000</td>\n    </tr>\n    <tr>\n      <th>37</th>\n      <td>3.36</td>\n      <td>22</td>\n      <td>10.4</td>\n      <td>11.111111</td>\n      <td>-4.444444</td>\n    </tr>\n    <tr>\n      <th>38</th>\n      <td>3.45</td>\n      <td>22</td>\n      <td>11.0</td>\n      <td>0.000000</td>\n      <td>6.666667</td>\n    </tr>\n    <tr>\n      <th>39</th>\n      <td>3.56</td>\n      <td>21</td>\n      <td>12.4</td>\n      <td>-9.090909</td>\n      <td>12.727273</td>\n    </tr>\n    <tr>\n      <th>40</th>\n      <td>3.64</td>\n      <td>21</td>\n      <td>12.4</td>\n      <td>0.000000</td>\n      <td>0.000000</td>\n    </tr>\n    <tr>\n      <th>41</th>\n      <td>3.72</td>\n      <td>22</td>\n      <td>12.8</td>\n      <td>12.500000</td>\n      <td>5.000000</td>\n    </tr>\n    <tr>\n      <th>42</th>\n      <td>3.83</td>\n      <td>22</td>\n      <td>13.0</td>\n      <td>0.000000</td>\n      <td>1.818182</td>\n    </tr>\n    <tr>\n      <th>43</th>\n      <td>3.91</td>\n      <td>22</td>\n      <td>13.0</td>\n      <td>0.000000</td>\n      <td>0.000000</td>\n    </tr>\n    <tr>\n      <th>44</th>\n      <td>4.02</td>\n      <td>22</td>\n      <td>13.1</td>\n      <td>0.000000</td>\n      <td>0.909091</td>\n    </tr>\n    <tr>\n      <th>45</th>\n      <td>4.09</td>\n      <td>22</td>\n      <td>13.1</td>\n      <td>0.000000</td>\n      <td>0.000000</td>\n    </tr>\n    <tr>\n      <th>46</th>\n      <td>4.17</td>\n      <td>22</td>\n      <td>13.1</td>\n      <td>0.000000</td>\n      <td>0.000000</td>\n    </tr>\n    <tr>\n      <th>47</th>\n      <td>4.27</td>\n      <td>22</td>\n      <td>13.1</td>\n      <td>0.000000</td>\n      <td>0.000000</td>\n    </tr>\n    <tr>\n      <th>48</th>\n      <td>4.38</td>\n      <td>22</td>\n      <td>13.0</td>\n      <td>0.000000</td>\n      <td>-0.909091</td>\n    </tr>\n    <tr>\n      <th>49</th>\n      <td>4.45</td>\n      <td>23</td>\n      <td>13.0</td>\n      <td>14.285714</td>\n      <td>0.000000</td>\n    </tr>\n  </tbody>\n</table>\n</div>"
     },
     "execution_count": 18,
     "metadata": {},
     "output_type": "execute_result"
    }
   ],
   "source": [
    "# Calculate the derivative of the throttle position and air-fuel mixture\n",
    "df['throttle_derivative'] = df[throttle_col].diff() / df[time_col].diff()\n",
    "df['afr_derivative'] = df[afr_col].diff() / df[time_col].diff()\n",
    "df.head(50)"
   ],
   "metadata": {
    "collapsed": false
   }
  },
  {
   "cell_type": "code",
   "execution_count": 20,
   "outputs": [
    {
     "data": {
      "text/plain": "   Secs  TPS  WB_Oxy  throttle_derivative  afr_derivative\n0  0.00   20    15.1                  NaN             NaN\n1  0.09   20    14.7                  0.0       -4.444444\n2  0.17   20    13.9                  0.0      -10.000000\n3  0.27   20    13.8                  0.0       -1.000000\n4  0.36   20    14.0                  0.0        2.222222",
      "text/html": "<div>\n<style scoped>\n    .dataframe tbody tr th:only-of-type {\n        vertical-align: middle;\n    }\n\n    .dataframe tbody tr th {\n        vertical-align: top;\n    }\n\n    .dataframe thead th {\n        text-align: right;\n    }\n</style>\n<table border=\"1\" class=\"dataframe\">\n  <thead>\n    <tr style=\"text-align: right;\">\n      <th></th>\n      <th>Secs</th>\n      <th>TPS</th>\n      <th>WB_Oxy</th>\n      <th>throttle_derivative</th>\n      <th>afr_derivative</th>\n    </tr>\n  </thead>\n  <tbody>\n    <tr>\n      <th>0</th>\n      <td>0.00</td>\n      <td>20</td>\n      <td>15.1</td>\n      <td>NaN</td>\n      <td>NaN</td>\n    </tr>\n    <tr>\n      <th>1</th>\n      <td>0.09</td>\n      <td>20</td>\n      <td>14.7</td>\n      <td>0.0</td>\n      <td>-4.444444</td>\n    </tr>\n    <tr>\n      <th>2</th>\n      <td>0.17</td>\n      <td>20</td>\n      <td>13.9</td>\n      <td>0.0</td>\n      <td>-10.000000</td>\n    </tr>\n    <tr>\n      <th>3</th>\n      <td>0.27</td>\n      <td>20</td>\n      <td>13.8</td>\n      <td>0.0</td>\n      <td>-1.000000</td>\n    </tr>\n    <tr>\n      <th>4</th>\n      <td>0.36</td>\n      <td>20</td>\n      <td>14.0</td>\n      <td>0.0</td>\n      <td>2.222222</td>\n    </tr>\n  </tbody>\n</table>\n</div>"
     },
     "execution_count": 20,
     "metadata": {},
     "output_type": "execute_result"
    }
   ],
   "source": [
    "# Find the point where the rate of change in throttle position exceeds a certain threshold\n",
    "# and when the corresponding rate of change in the air-fuel mixture first exceeds a similar threshold\n",
    "throttle_threshold = 20\n",
    "afr_threshold = -5\n",
    "\n",
    "throttle_start = df[df['throttle_derivative'] > throttle_threshold].index[0]\n",
    "afr_start = df[df['afr_derivative'] < afr_threshold].index[0]"
   ],
   "metadata": {
    "collapsed": false
   }
  },
  {
   "cell_type": "code",
   "execution_count": 21,
   "outputs": [
    {
     "name": "stdout",
     "output_type": "stream",
     "text": [
      "Time to effect: -2.3000000000000003 seconds\n"
     ]
    }
   ],
   "source": [
    "# The difference in time between these two points is the time it takes for the throttle being opened to have an effect on the air-fuel mixture\n",
    "time_to_effect = df.loc[afr_start, time_col] - df.loc[throttle_start, time_col]\n",
    "print('Time to effect:', time_to_effect, 'seconds')\n"
   ],
   "metadata": {
    "collapsed": false
   }
  },
  {
   "cell_type": "code",
   "execution_count": null,
   "outputs": [],
   "source": [
    "# 2.39 to 2.47 is throttle open\n",
    "# 2.75 the AFR raises as the throttle is opened\n",
    "# Time taken to respond is 0.28 to 0.36 seconds\n"
   ],
   "metadata": {
    "collapsed": false
   }
  },
  {
   "cell_type": "markdown",
   "source": [
    "Now we know the delay, let's regress the AFR against the INJ_PW\n",
    "We need to exclude any rows where there is accel fuel being added (Accel_ == True)\n",
    "We need to exclude any rows where the throttle is closed TPS == 20 or snapped open or closed, i.e. TPS derivative > 100\n",
    "We will also need to estimate the intake velocity as a function of RPM and MAP with a delay and increase.\n"
   ],
   "metadata": {
    "collapsed": false
   }
  }
 ],
 "metadata": {
  "kernelspec": {
   "display_name": "Python 3",
   "language": "python",
   "name": "python3"
  },
  "language_info": {
   "codemirror_mode": {
    "name": "ipython",
    "version": 2
   },
   "file_extension": ".py",
   "mimetype": "text/x-python",
   "name": "python",
   "nbconvert_exporter": "python",
   "pygments_lexer": "ipython2",
   "version": "2.7.6"
  }
 },
 "nbformat": 4,
 "nbformat_minor": 0
}
