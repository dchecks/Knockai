{
 "cells": [
  {
   "cell_type": "code",
   "execution_count": 1,
   "metadata": {
    "collapsed": true
   },
   "outputs": [],
   "source": [
    "from knockai.log_decode import log_decode\n",
    "import pandas as pd\n",
    "from sklearn.linear_model import LinearRegression\n",
    "import numpy as np\n",
    "from knockai.log_decode import clean_data\n",
    "\n"
   ]
  },
  {
   "cell_type": "code",
   "execution_count": 2,
   "outputs": [
    {
     "data": {
      "text/plain": "   Secs  RPM  MAP  ETemp  IAT  VOLTS  TPS   OXY  WB_Oxy  INJ_PW  ...  Accel_  \\\n0  0.00  900   32     74   18   13.0   20  0.12    15.1     1.6  ...     Off   \n1  0.09  900   32     74   16   13.0   20  0.12    14.7     1.6  ...     Off   \n2  0.17  800   32     74   16   12.9   20  0.12    13.9     1.6  ...     Off   \n3  0.27  800   32     74   16   12.9   20  0.95    13.8     1.6  ...     Off   \n4  0.36  800   33     74   16   12.7   20  0.91    14.0     1.7  ...     Off   \n\n   RadFan  Aux1  Aux1  Orun_Vac  Iat_Rtd  Stagin IDLEST  TPSCls Markers  \n0     Off   Off   Off       Off      Off     Off      =  Closed       I  \n1     Off   Off   Off       Off      Off     Off      =  Closed       I  \n2     Off   Off   Off       Off      Off     Off      =  Closed       I  \n3     Off   Off   Off       Off      Off     Off      =  Closed       I  \n4     Off   Off   Off       Off      Off     Off      =  Closed       I  \n\n[5 rows x 29 columns]",
      "text/html": "<div>\n<style scoped>\n    .dataframe tbody tr th:only-of-type {\n        vertical-align: middle;\n    }\n\n    .dataframe tbody tr th {\n        vertical-align: top;\n    }\n\n    .dataframe thead th {\n        text-align: right;\n    }\n</style>\n<table border=\"1\" class=\"dataframe\">\n  <thead>\n    <tr style=\"text-align: right;\">\n      <th></th>\n      <th>Secs</th>\n      <th>RPM</th>\n      <th>MAP</th>\n      <th>ETemp</th>\n      <th>IAT</th>\n      <th>VOLTS</th>\n      <th>TPS</th>\n      <th>OXY</th>\n      <th>WB_Oxy</th>\n      <th>INJ_PW</th>\n      <th>...</th>\n      <th>Accel_</th>\n      <th>RadFan</th>\n      <th>Aux1</th>\n      <th>Aux1</th>\n      <th>Orun_Vac</th>\n      <th>Iat_Rtd</th>\n      <th>Stagin</th>\n      <th>IDLEST</th>\n      <th>TPSCls</th>\n      <th>Markers</th>\n    </tr>\n  </thead>\n  <tbody>\n    <tr>\n      <th>0</th>\n      <td>0.00</td>\n      <td>900</td>\n      <td>32</td>\n      <td>74</td>\n      <td>18</td>\n      <td>13.0</td>\n      <td>20</td>\n      <td>0.12</td>\n      <td>15.1</td>\n      <td>1.6</td>\n      <td>...</td>\n      <td>Off</td>\n      <td>Off</td>\n      <td>Off</td>\n      <td>Off</td>\n      <td>Off</td>\n      <td>Off</td>\n      <td>Off</td>\n      <td>=</td>\n      <td>Closed</td>\n      <td>I</td>\n    </tr>\n    <tr>\n      <th>1</th>\n      <td>0.09</td>\n      <td>900</td>\n      <td>32</td>\n      <td>74</td>\n      <td>16</td>\n      <td>13.0</td>\n      <td>20</td>\n      <td>0.12</td>\n      <td>14.7</td>\n      <td>1.6</td>\n      <td>...</td>\n      <td>Off</td>\n      <td>Off</td>\n      <td>Off</td>\n      <td>Off</td>\n      <td>Off</td>\n      <td>Off</td>\n      <td>Off</td>\n      <td>=</td>\n      <td>Closed</td>\n      <td>I</td>\n    </tr>\n    <tr>\n      <th>2</th>\n      <td>0.17</td>\n      <td>800</td>\n      <td>32</td>\n      <td>74</td>\n      <td>16</td>\n      <td>12.9</td>\n      <td>20</td>\n      <td>0.12</td>\n      <td>13.9</td>\n      <td>1.6</td>\n      <td>...</td>\n      <td>Off</td>\n      <td>Off</td>\n      <td>Off</td>\n      <td>Off</td>\n      <td>Off</td>\n      <td>Off</td>\n      <td>Off</td>\n      <td>=</td>\n      <td>Closed</td>\n      <td>I</td>\n    </tr>\n    <tr>\n      <th>3</th>\n      <td>0.27</td>\n      <td>800</td>\n      <td>32</td>\n      <td>74</td>\n      <td>16</td>\n      <td>12.9</td>\n      <td>20</td>\n      <td>0.95</td>\n      <td>13.8</td>\n      <td>1.6</td>\n      <td>...</td>\n      <td>Off</td>\n      <td>Off</td>\n      <td>Off</td>\n      <td>Off</td>\n      <td>Off</td>\n      <td>Off</td>\n      <td>Off</td>\n      <td>=</td>\n      <td>Closed</td>\n      <td>I</td>\n    </tr>\n    <tr>\n      <th>4</th>\n      <td>0.36</td>\n      <td>800</td>\n      <td>33</td>\n      <td>74</td>\n      <td>16</td>\n      <td>12.7</td>\n      <td>20</td>\n      <td>0.91</td>\n      <td>14.0</td>\n      <td>1.7</td>\n      <td>...</td>\n      <td>Off</td>\n      <td>Off</td>\n      <td>Off</td>\n      <td>Off</td>\n      <td>Off</td>\n      <td>Off</td>\n      <td>Off</td>\n      <td>=</td>\n      <td>Closed</td>\n      <td>I</td>\n    </tr>\n  </tbody>\n</table>\n<p>5 rows × 29 columns</p>\n</div>"
     },
     "execution_count": 2,
     "metadata": {},
     "output_type": "execute_result"
    }
   ],
   "source": [
    "# Load the data into a Pandas DataFrame\n",
    "df = log_decode('/Users/danchecketts/dev/learning/Knockai/resources/runs/r02/r2-100k-af.txt')\n",
    "df.head()"
   ],
   "metadata": {
    "collapsed": false
   }
  },
  {
   "cell_type": "code",
   "execution_count": 3,
   "outputs": [],
   "source": [
    "df = clean_data(df)"
   ],
   "metadata": {
    "collapsed": false
   }
  },
  {
   "cell_type": "code",
   "execution_count": 4,
   "outputs": [],
   "source": [
    "# Calculate the air density based on MAP and Intake Temp\n",
    "df[\"air_density\"] = df[\"MAP\"] / (df[\"IAT\"] + 273.15)\n"
   ],
   "metadata": {
    "collapsed": false
   }
  },
  {
   "cell_type": "code",
   "execution_count": 5,
   "outputs": [],
   "source": [
    "# Calculate the air flow rate based on RPM and engine displacement\n",
    "df[\"air_flow_rate\"] = df[\"RPM\"] * 1809 * 0.001 / 2\n",
    "\n",
    "# Calculate the intake velocity based on air flow rate and air density\n",
    "df[\"intake_velocity\"] = df[\"air_flow_rate\"] / df[\"air_density\"]\n",
    "\n",
    "# Calculate the correction factor based on an exponential decay function of intake velocity\n",
    "df[\"correction_factor\"] = np.exp(-df[\"intake_velocity\"] / 1000)"
   ],
   "metadata": {
    "collapsed": false
   }
  },
  {
   "cell_type": "code",
   "execution_count": 6,
   "outputs": [],
   "source": [
    "# Split the data into features (INJ_PW, intake velocity, and correction factor) and target (WB_Oxy)\n",
    "X = df[[\"INJ_PW\", \"intake_velocity\", \"correction_factor\"]].values\n",
    "y = df[\"WB_Oxy\"].values.reshape(-1, 1)\n"
   ],
   "metadata": {
    "collapsed": false
   }
  },
  {
   "cell_type": "code",
   "execution_count": 7,
   "outputs": [
    {
     "name": "stdout",
     "output_type": "stream",
     "text": [
      "y = -0.38 * INJ_PW + -0.00 * intake_velocity + 29.41 * correction_factor + 14.26\n"
     ]
    }
   ],
   "source": [
    "# Fit the multiple linear regression model to the data\n",
    "reg = LinearRegression().fit(X, y)\n",
    "\n",
    "# Get the coefficients of the regression line\n",
    "coef = reg.coef_[0]\n",
    "intercept = reg.intercept_[0]\n",
    "\n",
    "# The regression line can be represented as y = a1 * INJ_PW + a2 * intake_velocity + a3 * correction_factor + b, where a1, a2, a3 = coefficients and b = intercept\n",
    "print(\"y = {:.2f} * INJ_PW + {:.2f} * intake_velocity + {:.2f} * correction_factor + {:.2f}\".format(coef[0], coef[1], coef[2], intercept))\n"
   ],
   "metadata": {
    "collapsed": false
   }
  }
 ],
 "metadata": {
  "kernelspec": {
   "display_name": "Python 3",
   "language": "python",
   "name": "python3"
  },
  "language_info": {
   "codemirror_mode": {
    "name": "ipython",
    "version": 2
   },
   "file_extension": ".py",
   "mimetype": "text/x-python",
   "name": "python",
   "nbconvert_exporter": "python",
   "pygments_lexer": "ipython2",
   "version": "2.7.6"
  }
 },
 "nbformat": 4,
 "nbformat_minor": 0
}
